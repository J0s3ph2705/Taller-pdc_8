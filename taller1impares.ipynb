3. Realice un programa que lea un n�mero entero y determine si es par o impar.

#Se toma el n�mero

n1=input("N�mero? ")

#Se saca el m�dulo entre 2, si es 0 el n�mero es par

if int(n1)%2==0:
    print("El n�mero "+str(n1)+" es par")
else:
    print("El n�mero "+str(n1)+" es impar")




5. Realice un programa que lea tres n�meros reales y determine si la suma de los dos primeros es mayor, menor o igual que el tercer n�mero.

#se toman los n�meros

n1=input("N�mero 1? ")
n2=input("N�mero 2? ")
n3=input("N�mero 3? ")

#Se suman el primer y segundo n�mero

suma=float(n1)+float(n2)

#Se comparan los resultados con el tercer n�mero.

if float(n3)>suma:
    print(str(n3)+" es mayor que "+str(n2)+"+"+str(n1))
elif float(n3)==suma:
    print(str(n3)+" es igual que "+str(n2)+"+"+str(n1))
else:
    print(str(n3)+" es menor que "+str(n2)+"+"+str(n1))





7. Escriba un programa que pida 5 n�meros reales y calcule las siguientes operaciones:

El promedio
La mediana
El promedio multiplicativo (multilplica todos y luego calcula la ra�z de la cantidad de operandos)
Ordenar los n�meros de forma ascendente
Ordenar los n�meros de forma descendente
La potencia del mayor n�mero elevado al menor n�mero
La ra�z c�bica del menor n�mero

#Se pide los n�meros

n1=input("N�mero 1? ")
n2=input("N�mero 2? ")
n3=input("N�mero 3? ")
n4=input("N�mero 4? ")
n5=input("N�mero 5? ")

#Se calcula el promedio, la mediana, el promedio multiplicativo...

promedio=(float(n1)+float(n2)+float(n3)+float(n4)+float(n5))/5
mediana=(float(n1)+float(n2)+float(n3)+float(n4)+float(n5))//5
promedio_multiplicativo=(float(n1)*float(n2)*float(n3)*float(n4)*float(n5))**(1/5)

#Se hace una lista con los n�meros

lista=n1,n2,n3,n4,n5

#Se usa la funci�n "sort" para oorganizarla ascendente y descendentemente, y se hacen 2 listas

ascendente=sorted(lista)
descendente=sorted(lista, reverse=True)

#Se toman los primeros valores de cada lista (el n�mero m�s peque�o y el m�s grande) y se les asigna variables 

menor=float(ascendente[0])
mayor=float(descendente[0])

#Se realiza la potencia y la ra�z que se pide

potencia=mayor**menor
raiz=menor**(1/3)

#Se imprimen los resultados

print("El promedio es igual a "+str(promedio))
print("La mediana es igual a "+str(mediana))
print("El promedio multiplicativo es igual a "+str(promedio_multiplicativo))
print("El orden ascendente es "+str(ascendente))
print("El orden descendente es "+str(descendente))
print("La potencia de el n�mero mayor ("+str(mayor)+") a la de el n�mero menor ("+str(menor)+") es "+str(potencia))
print("La ra�z c�bica del n�mero menor ("+str(menor)+") es igual a "+str(raiz))





9. Escriba un programa que reciba el nombre en min�sculas de un pa�s de America y retorne la ciudad capital, si el pa�s no pertenece al continente debe arrojar pa�s no identificado.

#Se pide el pa�s en min�sculas

p=input("Pa�s? ")

#Se hace una lista con los pa�ses y una con las capitales, de manera que cada pa�s tenge el mismo index de su capital

paises=("canad�","estados unidos","m�xico","belice","costa rica","el salvador","guatemala","honduras","nicaragua","panama","argentina","bolivia","brasil","chile","colombia","ecuador","paraguay","per�","surinam","trinidad y tobago","uruguay","venezuela","antigua y barbuda","bahamas","barbados","cuba","dominica" ,"granada","guyana","hait�" ,"jamaica","rep�blica dominicana","san crist�bal y nieves","san vicente y las granadinas","santa Luc�a")

capitales=["Otawwa.","Washington DC.","M�xico DF.","Belmop�n.","San Jos�.","San Salvador.","Ciudad de Guatemala.","Tegucigalpa.","Managua.","Panam�.","Buenos Aires.","Sucre.","Brasilia.","Santiago de Chile.","Bogot�.","Quito.","Asunci�n.","Lima.","Parabarimo.","Puerto Espa�a.","Montevideo.","Caracas.","Saint John.","Nas�u.","Bridgetown.","La Habana.","Roseau.","Saint George.","Georgetown.","Puerto Pr�ncipe.","Kingston.","Santo Domingo.","Basseterre.","Kingstown.","Castries."]

#Se verifica si el pa�s est� en la lista, si esta, se encuentra el index para poder hallar su capital y se imprime el pa�s con su capital; si no, se imprime un texto que dice que el pa�s no est� en Am�rica.

if p in paises:
    numero=paises.index(p)
    print("la capital de "+p+" es "+capitales[numero])
else:
    print("El pais no pertenece a Am�rica.")
